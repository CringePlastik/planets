{
 "cells": [
  {
   "cell_type": "code",
   "execution_count": 37,
   "metadata": {},
   "outputs": [],
   "source": [
    "import os\n",
    "import pandas as pd\n",
    "import numpy as np\n",
    "import sys\n",
    "from sklearn.ensemble import RandomForestClassifier\n",
    "from sklearn.impute import KNNImputer\n",
    "from typing import List\n",
    "from sklearn.preprocessing import StandardScaler\n",
    "from sklearn.pipeline import make_pipeline\n",
    "from sklearn.model_selection import cross_validate\n",
    "from sklearn.multiclass import OneVsRestClassifier\n",
    "from sklearn.svm import SVC\n",
    "import xgboost as xgb"
   ]
  },
  {
   "cell_type": "code",
   "execution_count": 2,
   "metadata": {},
   "outputs": [],
   "source": [
    "# Constants\n",
    "\n",
    "TRAIN_FILE = \"data/train.csv\"\n",
    "VAL_FILE = \"data/val.csv\"\n",
    "UNLABELED = \"data/unlabeled_v2.csv\"\n",
    "TRAIN_REPORT_PATH = \"reports/train_planets_report.html\"\n",
    "VAL_REPORT_PATH = \"reports/val_planets_report.html\"\n",
    "UNLABELED_REPORT_PATH = \"reports/unlabeled_planets_report.html\"\n",
    "\n",
    "# Features\n",
    "OBJID = \"objid\"\n",
    "RA = \"ra\"\n",
    "DEC = \"dec\"\n",
    "CLEAN = \"clean\"\n",
    "ROWC = \"rowc\"\n",
    "colc = \"colc\"\n",
    "CLASS = \"class\""
   ]
  },
  {
   "cell_type": "code",
   "execution_count": 18,
   "metadata": {},
   "outputs": [],
   "source": [
    "def nan_filler(df: pd.DataFrame, old_nan):\n",
    "    df.replace(old_nan, np.nan, inplace=True)\n",
    "\n",
    "\n",
    "def fill_numeric_knn(df: pd.DataFrame, scaler, imputer_params: dict = {\"n_neighbors\": 5, \"metric\": \"nan_euclidean\", \"weights\": \"uniform\"})->pd.DataFrame:\n",
    "    \"\"\"\n",
    "    \"\"\"\n",
    "    # Scaling\n",
    "    columns = df.columns\n",
    "    scl = scaler()\n",
    "    df = scl.fit_transform(df)\n",
    "    knn_imputer = KNNImputer(**imputer_params)\n",
    "    transformed_df = knn_imputer.fit_transform(df)\n",
    "    out_df = pd.DataFrame(transformed_df)\n",
    "    out_df.columns = columns\n",
    "    return out_df\n",
    "\n",
    "\n",
    "def fill_median(df: pd.DataFrame, columns: List[str]) -> pd.DataFrame:\n",
    "    \"\"\"\n",
    "    \"\"\"\n",
    "    return df[columns].fillna(df[columns].median())\n",
    "\n",
    "\n",
    "def preprocess_train_dataset(file, target_column, drop_columns=None):\n",
    "    df = pd.read_csv(file)\n",
    "    y = df[target_column]\n",
    "    df.drop(target_column, axis=1, inplace=True)\n",
    "    if drop_columns:\n",
    "        df.drop(drop_columns, inplace=True, axis=1)\n",
    "    nan_filler(df, old_nan=\"na\")\n",
    "    df = fill_median(df, columns=df.columns)\n",
    "    return df, y\n",
    "\n",
    "\n",
    "def preprocess_unlabeled_dataset(file, drop_columns=None):\n",
    "    df = pd.read_csv(file)\n",
    "    if drop_columns:\n",
    "        df.drop(drop_columns, inplace=True, axis=1)\n",
    "    nan_filler(df, old_nan=\"na\")\n",
    "    df = fill_median(df, columns=df.columns)\n",
    "    return df"
   ]
  },
  {
   "cell_type": "markdown",
   "metadata": {},
   "source": [
    "# Preprocess train"
   ]
  },
  {
   "cell_type": "code",
   "execution_count": 5,
   "metadata": {},
   "outputs": [],
   "source": [
    "train = pd.read_csv(TRAIN_FILE)"
   ]
  },
  {
   "cell_type": "code",
   "execution_count": 7,
   "metadata": {},
   "outputs": [],
   "source": [
    "nan_filler(train, old_nan=\"na\")"
   ]
  },
  {
   "cell_type": "code",
   "execution_count": 8,
   "metadata": {},
   "outputs": [],
   "source": [
    "train.drop(OBJID, inplace=True, axis=1)"
   ]
  },
  {
   "cell_type": "code",
   "execution_count": 10,
   "metadata": {},
   "outputs": [],
   "source": [
    "y_train = train[CLASS]"
   ]
  },
  {
   "cell_type": "code",
   "execution_count": 11,
   "metadata": {},
   "outputs": [],
   "source": [
    "train.drop(CLASS, axis=1, inplace=True)"
   ]
  },
  {
   "cell_type": "code",
   "execution_count": 22,
   "metadata": {},
   "outputs": [],
   "source": [
    "train = train.astype(np.float32)"
   ]
  },
  {
   "cell_type": "code",
   "execution_count": 23,
   "metadata": {},
   "outputs": [],
   "source": [
    "knn_filled_train = fill_numeric_knn(train, scaler=StandardScaler)"
   ]
  },
  {
   "cell_type": "code",
   "execution_count": 26,
   "metadata": {},
   "outputs": [
    {
     "data": {
      "text/html": [
       "<div>\n",
       "<style scoped>\n",
       "    .dataframe tbody tr th:only-of-type {\n",
       "        vertical-align: middle;\n",
       "    }\n",
       "\n",
       "    .dataframe tbody tr th {\n",
       "        vertical-align: top;\n",
       "    }\n",
       "\n",
       "    .dataframe thead th {\n",
       "        text-align: right;\n",
       "    }\n",
       "</style>\n",
       "<table border=\"1\" class=\"dataframe\">\n",
       "  <thead>\n",
       "    <tr style=\"text-align: right;\">\n",
       "      <th></th>\n",
       "      <th>ra</th>\n",
       "      <th>dec</th>\n",
       "      <th>u_0</th>\n",
       "      <th>g_0</th>\n",
       "      <th>r_0</th>\n",
       "      <th>i_0</th>\n",
       "      <th>z_0</th>\n",
       "      <th>clean</th>\n",
       "      <th>rowc</th>\n",
       "      <th>colc</th>\n",
       "      <th>...</th>\n",
       "      <th>u_5</th>\n",
       "      <th>g_5</th>\n",
       "      <th>r_5</th>\n",
       "      <th>i_5</th>\n",
       "      <th>z_5</th>\n",
       "      <th>u_6</th>\n",
       "      <th>g_6</th>\n",
       "      <th>r_6</th>\n",
       "      <th>i_6</th>\n",
       "      <th>z_6</th>\n",
       "    </tr>\n",
       "  </thead>\n",
       "  <tbody>\n",
       "    <tr>\n",
       "      <th>count</th>\n",
       "      <td>30000.000000</td>\n",
       "      <td>3.000000e+04</td>\n",
       "      <td>30000.000000</td>\n",
       "      <td>30000.000000</td>\n",
       "      <td>30000.000000</td>\n",
       "      <td>30000.000000</td>\n",
       "      <td>30000.000000</td>\n",
       "      <td>30000.000000</td>\n",
       "      <td>3.000000e+04</td>\n",
       "      <td>3.000000e+04</td>\n",
       "      <td>...</td>\n",
       "      <td>30000.000000</td>\n",
       "      <td>30000.000000</td>\n",
       "      <td>30000.000000</td>\n",
       "      <td>30000.000000</td>\n",
       "      <td>30000.000000</td>\n",
       "      <td>3.000000e+04</td>\n",
       "      <td>3.000000e+04</td>\n",
       "      <td>3.000000e+04</td>\n",
       "      <td>3.000000e+04</td>\n",
       "      <td>3.000000e+04</td>\n",
       "    </tr>\n",
       "    <tr>\n",
       "      <th>mean</th>\n",
       "      <td>0.000000</td>\n",
       "      <td>-2.441406e-08</td>\n",
       "      <td>-0.003852</td>\n",
       "      <td>-0.005846</td>\n",
       "      <td>-0.000798</td>\n",
       "      <td>-0.002258</td>\n",
       "      <td>-0.006903</td>\n",
       "      <td>0.000000</td>\n",
       "      <td>-1.271566e-09</td>\n",
       "      <td>5.086263e-09</td>\n",
       "      <td>...</td>\n",
       "      <td>-0.001419</td>\n",
       "      <td>-0.000014</td>\n",
       "      <td>-0.000999</td>\n",
       "      <td>-0.000704</td>\n",
       "      <td>-0.000299</td>\n",
       "      <td>8.138021e-09</td>\n",
       "      <td>-8.138021e-09</td>\n",
       "      <td>-1.627604e-08</td>\n",
       "      <td>-8.138021e-09</td>\n",
       "      <td>4.069010e-08</td>\n",
       "    </tr>\n",
       "    <tr>\n",
       "      <th>std</th>\n",
       "      <td>1.000017</td>\n",
       "      <td>1.000017e+00</td>\n",
       "      <td>0.978777</td>\n",
       "      <td>0.981307</td>\n",
       "      <td>0.981036</td>\n",
       "      <td>0.978175</td>\n",
       "      <td>0.976819</td>\n",
       "      <td>1.000017</td>\n",
       "      <td>1.000017e+00</td>\n",
       "      <td>1.000017e+00</td>\n",
       "      <td>...</td>\n",
       "      <td>0.923281</td>\n",
       "      <td>0.940277</td>\n",
       "      <td>0.925754</td>\n",
       "      <td>0.929968</td>\n",
       "      <td>0.947121</td>\n",
       "      <td>1.000017e+00</td>\n",
       "      <td>1.000017e+00</td>\n",
       "      <td>1.000017e+00</td>\n",
       "      <td>1.000017e+00</td>\n",
       "      <td>1.000017e+00</td>\n",
       "    </tr>\n",
       "    <tr>\n",
       "      <th>min</th>\n",
       "      <td>-1.971776</td>\n",
       "      <td>-1.386912e+00</td>\n",
       "      <td>-4.620751</td>\n",
       "      <td>-5.761186</td>\n",
       "      <td>-6.038962</td>\n",
       "      <td>-6.067034</td>\n",
       "      <td>-5.142623</td>\n",
       "      <td>-2.164995</td>\n",
       "      <td>-1.807250e+00</td>\n",
       "      <td>-1.905784e+00</td>\n",
       "      <td>...</td>\n",
       "      <td>-56.100445</td>\n",
       "      <td>-155.062714</td>\n",
       "      <td>-27.730429</td>\n",
       "      <td>-94.386200</td>\n",
       "      <td>-122.925743</td>\n",
       "      <td>-2.931453e+00</td>\n",
       "      <td>-3.198354e+00</td>\n",
       "      <td>-1.670659e+00</td>\n",
       "      <td>-1.685728e+00</td>\n",
       "      <td>-1.703705e+00</td>\n",
       "    </tr>\n",
       "    <tr>\n",
       "      <th>25%</th>\n",
       "      <td>-0.894177</td>\n",
       "      <td>-5.214929e-01</td>\n",
       "      <td>-0.803068</td>\n",
       "      <td>-0.713158</td>\n",
       "      <td>-0.585691</td>\n",
       "      <td>-0.531308</td>\n",
       "      <td>-0.535763</td>\n",
       "      <td>0.461895</td>\n",
       "      <td>-8.659694e-01</td>\n",
       "      <td>-8.409760e-01</td>\n",
       "      <td>...</td>\n",
       "      <td>-0.007112</td>\n",
       "      <td>0.004596</td>\n",
       "      <td>-0.013081</td>\n",
       "      <td>-0.018110</td>\n",
       "      <td>-0.000385</td>\n",
       "      <td>-9.285473e-01</td>\n",
       "      <td>-8.605612e-01</td>\n",
       "      <td>-7.013367e-01</td>\n",
       "      <td>-6.724371e-01</td>\n",
       "      <td>-1.106466e+00</td>\n",
       "    </tr>\n",
       "    <tr>\n",
       "      <th>50%</th>\n",
       "      <td>0.478989</td>\n",
       "      <td>-3.976714e-01</td>\n",
       "      <td>0.077681</td>\n",
       "      <td>0.094963</td>\n",
       "      <td>0.124292</td>\n",
       "      <td>0.079644</td>\n",
       "      <td>0.049623</td>\n",
       "      <td>0.461895</td>\n",
       "      <td>1.834904e-02</td>\n",
       "      <td>6.253775e-03</td>\n",
       "      <td>...</td>\n",
       "      <td>-0.003851</td>\n",
       "      <td>0.006449</td>\n",
       "      <td>-0.008883</td>\n",
       "      <td>0.000948</td>\n",
       "      <td>0.004601</td>\n",
       "      <td>-9.285473e-01</td>\n",
       "      <td>-2.761129e-01</td>\n",
       "      <td>-2.166758e-01</td>\n",
       "      <td>-1.657914e-01</td>\n",
       "      <td>8.801318e-02</td>\n",
       "    </tr>\n",
       "    <tr>\n",
       "      <th>75%</th>\n",
       "      <td>0.709084</td>\n",
       "      <td>2.121820e-01</td>\n",
       "      <td>0.739332</td>\n",
       "      <td>0.614741</td>\n",
       "      <td>0.618085</td>\n",
       "      <td>0.689805</td>\n",
       "      <td>0.664417</td>\n",
       "      <td>0.461895</td>\n",
       "      <td>8.675691e-01</td>\n",
       "      <td>8.621805e-01</td>\n",
       "      <td>...</td>\n",
       "      <td>-0.000893</td>\n",
       "      <td>0.007995</td>\n",
       "      <td>-0.003576</td>\n",
       "      <td>0.021964</td>\n",
       "      <td>0.009481</td>\n",
       "      <td>1.074359e+00</td>\n",
       "      <td>8.927838e-01</td>\n",
       "      <td>7.526462e-01</td>\n",
       "      <td>8.475001e-01</td>\n",
       "      <td>6.852525e-01</td>\n",
       "    </tr>\n",
       "    <tr>\n",
       "      <th>max</th>\n",
       "      <td>1.643248</td>\n",
       "      <td>2.768572e+00</td>\n",
       "      <td>4.012548</td>\n",
       "      <td>5.078683</td>\n",
       "      <td>6.039103</td>\n",
       "      <td>6.619977</td>\n",
       "      <td>5.446929</td>\n",
       "      <td>0.461895</td>\n",
       "      <td>1.732620e+00</td>\n",
       "      <td>1.819995e+00</td>\n",
       "      <td>...</td>\n",
       "      <td>114.268509</td>\n",
       "      <td>14.439761</td>\n",
       "      <td>135.275635</td>\n",
       "      <td>55.262589</td>\n",
       "      <td>49.572327</td>\n",
       "      <td>1.074359e+00</td>\n",
       "      <td>1.477232e+00</td>\n",
       "      <td>1.721968e+00</td>\n",
       "      <td>1.860791e+00</td>\n",
       "      <td>3.074210e+00</td>\n",
       "    </tr>\n",
       "  </tbody>\n",
       "</table>\n",
       "<p>8 rows × 42 columns</p>\n",
       "</div>"
      ],
      "text/plain": [
       "                 ra           dec           u_0           g_0           r_0  \\\n",
       "count  30000.000000  3.000000e+04  30000.000000  30000.000000  30000.000000   \n",
       "mean       0.000000 -2.441406e-08     -0.003852     -0.005846     -0.000798   \n",
       "std        1.000017  1.000017e+00      0.978777      0.981307      0.981036   \n",
       "min       -1.971776 -1.386912e+00     -4.620751     -5.761186     -6.038962   \n",
       "25%       -0.894177 -5.214929e-01     -0.803068     -0.713158     -0.585691   \n",
       "50%        0.478989 -3.976714e-01      0.077681      0.094963      0.124292   \n",
       "75%        0.709084  2.121820e-01      0.739332      0.614741      0.618085   \n",
       "max        1.643248  2.768572e+00      4.012548      5.078683      6.039103   \n",
       "\n",
       "                i_0           z_0         clean          rowc          colc  \\\n",
       "count  30000.000000  30000.000000  30000.000000  3.000000e+04  3.000000e+04   \n",
       "mean      -0.002258     -0.006903      0.000000 -1.271566e-09  5.086263e-09   \n",
       "std        0.978175      0.976819      1.000017  1.000017e+00  1.000017e+00   \n",
       "min       -6.067034     -5.142623     -2.164995 -1.807250e+00 -1.905784e+00   \n",
       "25%       -0.531308     -0.535763      0.461895 -8.659694e-01 -8.409760e-01   \n",
       "50%        0.079644      0.049623      0.461895  1.834904e-02  6.253775e-03   \n",
       "75%        0.689805      0.664417      0.461895  8.675691e-01  8.621805e-01   \n",
       "max        6.619977      5.446929      0.461895  1.732620e+00  1.819995e+00   \n",
       "\n",
       "       ...           u_5           g_5           r_5           i_5  \\\n",
       "count  ...  30000.000000  30000.000000  30000.000000  30000.000000   \n",
       "mean   ...     -0.001419     -0.000014     -0.000999     -0.000704   \n",
       "std    ...      0.923281      0.940277      0.925754      0.929968   \n",
       "min    ...    -56.100445   -155.062714    -27.730429    -94.386200   \n",
       "25%    ...     -0.007112      0.004596     -0.013081     -0.018110   \n",
       "50%    ...     -0.003851      0.006449     -0.008883      0.000948   \n",
       "75%    ...     -0.000893      0.007995     -0.003576      0.021964   \n",
       "max    ...    114.268509     14.439761    135.275635     55.262589   \n",
       "\n",
       "                z_5           u_6           g_6           r_6           i_6  \\\n",
       "count  30000.000000  3.000000e+04  3.000000e+04  3.000000e+04  3.000000e+04   \n",
       "mean      -0.000299  8.138021e-09 -8.138021e-09 -1.627604e-08 -8.138021e-09   \n",
       "std        0.947121  1.000017e+00  1.000017e+00  1.000017e+00  1.000017e+00   \n",
       "min     -122.925743 -2.931453e+00 -3.198354e+00 -1.670659e+00 -1.685728e+00   \n",
       "25%       -0.000385 -9.285473e-01 -8.605612e-01 -7.013367e-01 -6.724371e-01   \n",
       "50%        0.004601 -9.285473e-01 -2.761129e-01 -2.166758e-01 -1.657914e-01   \n",
       "75%        0.009481  1.074359e+00  8.927838e-01  7.526462e-01  8.475001e-01   \n",
       "max       49.572327  1.074359e+00  1.477232e+00  1.721968e+00  1.860791e+00   \n",
       "\n",
       "                z_6  \n",
       "count  3.000000e+04  \n",
       "mean   4.069010e-08  \n",
       "std    1.000017e+00  \n",
       "min   -1.703705e+00  \n",
       "25%   -1.106466e+00  \n",
       "50%    8.801318e-02  \n",
       "75%    6.852525e-01  \n",
       "max    3.074210e+00  \n",
       "\n",
       "[8 rows x 42 columns]"
      ]
     },
     "execution_count": 26,
     "metadata": {},
     "output_type": "execute_result"
    }
   ],
   "source": [
    "knn_filled_train.describe()"
   ]
  },
  {
   "cell_type": "markdown",
   "metadata": {},
   "source": [
    "# Training RFC"
   ]
  },
  {
   "cell_type": "code",
   "execution_count": 27,
   "metadata": {},
   "outputs": [],
   "source": [
    "rfc_params = {\n",
    "    \"n_estimators\": 10,\n",
    "    \"criterion\": \"gini\",\n",
    "    \"min_samples_split\": 10,\n",
    "    \"max_features\": \"auto\",\n",
    "    \"bootstrap\": True,\n",
    "    \"n_jobs\": -1\n",
    "}"
   ]
  },
  {
   "cell_type": "code",
   "execution_count": 28,
   "metadata": {},
   "outputs": [],
   "source": [
    "rfc = RandomForestClassifier(**rfc_params)"
   ]
  },
  {
   "cell_type": "code",
   "execution_count": 31,
   "metadata": {},
   "outputs": [
    {
     "data": {
      "text/plain": [
       "{'fit_time': array([2.20798612, 2.09253383, 2.18752551, 2.244349  , 2.30721807,\n",
       "        2.41733861, 2.51049304, 2.37243605, 1.3270843 , 1.19770217]),\n",
       " 'score_time': array([0.02308583, 0.07537031, 0.02883911, 0.09078646, 0.09395385,\n",
       "        0.09226966, 0.03365135, 0.02631593, 0.01171017, 0.01118708]),\n",
       " 'test_f1_micro': array([0.68066667, 0.80566667, 0.70533333, 0.865     , 0.87      ,\n",
       "        0.85333333, 0.882     , 0.93666667, 0.93566667, 0.82866667]),\n",
       " 'test_f1_macro': array([0.67055002, 0.80403115, 0.70029941, 0.8636683 , 0.86740684,\n",
       "        0.84949306, 0.8816836 , 0.93652502, 0.93545677, 0.8304203 ]),\n",
       " 'test_f1_weighted': array([0.67055002, 0.80403115, 0.70029941, 0.8636683 , 0.86740684,\n",
       "        0.84949306, 0.8816836 , 0.93652502, 0.93545677, 0.8304203 ])}"
      ]
     },
     "execution_count": 31,
     "metadata": {},
     "output_type": "execute_result"
    }
   ],
   "source": [
    "rfc_knn_score = cross_validate(rfc, knn_filled_train, y_train, cv=10, scoring=[\"f1_micro\", \"f1_macro\", \"f1_weighted\"], n_jobs=-1)\n",
    "rfc_knn_score"
   ]
  },
  {
   "cell_type": "code",
   "execution_count": 32,
   "metadata": {},
   "outputs": [
    {
     "name": "stdout",
     "output_type": "stream",
     "text": [
      "Averages for KNN filling\n",
      "fit_time 2.086466670036316\n",
      "score_time 0.04871697425842285\n",
      "test_f1_micro 0.8362999999999999\n",
      "test_f1_macro 0.8339534468401137\n",
      "test_f1_weighted 0.8339534468401137\n"
     ]
    }
   ],
   "source": [
    "print(\"Averages for KNN filling\")\n",
    "for k, v in rfc_knn_score.items():\n",
    "    print(k, np.mean(v))"
   ]
  },
  {
   "cell_type": "markdown",
   "metadata": {},
   "source": [
    "# Ensemble of SVC models"
   ]
  },
  {
   "cell_type": "code",
   "execution_count": 34,
   "metadata": {},
   "outputs": [],
   "source": [
    "svc_ensemble = OneVsRestClassifier(SVC())"
   ]
  },
  {
   "cell_type": "code",
   "execution_count": 35,
   "metadata": {},
   "outputs": [
    {
     "data": {
      "text/plain": [
       "{'fit_time': array([86.68847561, 88.22821164, 89.07271171, 92.23407173, 94.72351384,\n",
       "        94.01462412, 94.57167006, 94.97331238, 65.78146601, 61.63696432]),\n",
       " 'score_time': array([6.19693518, 6.53629065, 6.65872669, 6.48659801, 7.04660249,\n",
       "        6.96389222, 6.88834023, 6.53894424, 4.13366747, 4.24801111]),\n",
       " 'test_f1_micro': array([0.68133333, 0.75      , 0.77366667, 0.82966667, 0.90433333,\n",
       "        0.89533333, 0.89433333, 0.89533333, 0.888     , 0.82933333]),\n",
       " 'test_f1_macro': array([0.65611855, 0.74784338, 0.77651316, 0.82943996, 0.90349537,\n",
       "        0.89434205, 0.89328074, 0.89513362, 0.88838709, 0.82885983]),\n",
       " 'test_f1_weighted': array([0.65611855, 0.74784338, 0.77651316, 0.82943996, 0.90349537,\n",
       "        0.89434205, 0.89328074, 0.89513362, 0.88838709, 0.82885983])}"
      ]
     },
     "execution_count": 35,
     "metadata": {},
     "output_type": "execute_result"
    }
   ],
   "source": [
    "svce_scores = cross_validate(svc_ensemble, knn_filled_train, y_train, cv=10, scoring=[\"f1_micro\", \"f1_macro\", \"f1_weighted\"], n_jobs=-1)\n",
    "svce_scores"
   ]
  },
  {
   "cell_type": "code",
   "execution_count": 36,
   "metadata": {},
   "outputs": [
    {
     "name": "stdout",
     "output_type": "stream",
     "text": [
      "Averages for SVC ensemble\n",
      "fit_time 86.19250214099884\n",
      "score_time 6.16980082988739\n",
      "test_f1_micro 0.8341333333333333\n",
      "test_f1_macro 0.8313413757204511\n",
      "test_f1_weighted 0.8313413757204511\n"
     ]
    }
   ],
   "source": [
    "print(\"Averages for SVC ensemble\")\n",
    "for k, v in svce_scores.items():\n",
    "    print(k, np.mean(v))"
   ]
  },
  {
   "cell_type": "markdown",
   "metadata": {},
   "source": [
    "# XGBoost"
   ]
  },
  {
   "cell_type": "code",
   "execution_count": 41,
   "metadata": {},
   "outputs": [],
   "source": [
    "xgb_params = {\n",
    "    'random_state': 42,\n",
    "    'tree_method': 'hist',\n",
    "    'grow_policy': 'lossguide',\n",
    "    'n_estimators': 10,\n",
    "    'eta': 0.02,\n",
    "    'max_depth': 3,\n",
    "    'min_child_weight': 1,\n",
    "    'reg_lambda': 1,\n",
    "    'max_bin': 120,\n",
    "    'subsample': 0.9\n",
    "}"
   ]
  },
  {
   "cell_type": "code",
   "execution_count": 42,
   "metadata": {},
   "outputs": [],
   "source": [
    "xgbc = xgb.XGBClassifier(**xgb_params)"
   ]
  },
  {
   "cell_type": "code",
   "execution_count": 43,
   "metadata": {},
   "outputs": [
    {
     "data": {
      "text/plain": [
       "{'fit_time': array([19.07109857, 49.57370162, 48.12543678, 53.22042108, 11.111938  ,\n",
       "        23.04491282, 36.56133103, 18.0635879 , 31.62586641, 13.37819529]),\n",
       " 'score_time': array([0.12771511, 0.15610981, 0.16035199, 0.1284709 , 0.03177285,\n",
       "        0.1643877 , 0.09258199, 0.02416635, 0.00777125, 0.09301949]),\n",
       " 'test_f1_micro': array([0.52633333, 0.80033333, 0.76866667, 0.85166667, 0.899     ,\n",
       "        0.83833333, 0.854     , 0.907     , 0.91733333, 0.64233333]),\n",
       " 'test_f1_macro': array([0.47148709, 0.79173778, 0.76208588, 0.85115433, 0.89797192,\n",
       "        0.8390197 , 0.85475183, 0.90627908, 0.9166888 , 0.64049019]),\n",
       " 'test_f1_weighted': array([0.47148709, 0.79173778, 0.76208588, 0.85115433, 0.89797192,\n",
       "        0.8390197 , 0.85475183, 0.90627908, 0.9166888 , 0.64049019])}"
      ]
     },
     "execution_count": 43,
     "metadata": {},
     "output_type": "execute_result"
    }
   ],
   "source": [
    "xgb_scores = cross_validate(xgbc, knn_filled_train, y_train, cv=10, scoring=[\"f1_micro\", \"f1_macro\", \"f1_weighted\"], n_jobs=-1)\n",
    "xgb_scores"
   ]
  },
  {
   "cell_type": "code",
   "execution_count": null,
   "metadata": {},
   "outputs": [],
   "source": []
  }
 ],
 "metadata": {
  "kernelspec": {
   "display_name": "Python 3",
   "language": "python",
   "name": "python3"
  },
  "language_info": {
   "codemirror_mode": {
    "name": "ipython",
    "version": 3
   },
   "file_extension": ".py",
   "mimetype": "text/x-python",
   "name": "python",
   "nbconvert_exporter": "python",
   "pygments_lexer": "ipython3",
   "version": "3.8.6"
  }
 },
 "nbformat": 4,
 "nbformat_minor": 4
}
